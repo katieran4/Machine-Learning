{
 "cells": [
  {
   "cell_type": "code",
   "execution_count": 1,
   "metadata": {},
   "outputs": [],
   "source": [
    "from RDF import *\n",
    "from aflow import *\n",
    "from math import pi\n",
    "from pymatgen.core.structure import Structure\n",
    "from pymatgen.symmetry.analyzer import SpacegroupAnalyzer\n"
   ]
  },
  {
   "cell_type": "code",
   "execution_count": 10,
   "metadata": {},
   "outputs": [
    {
     "name": "stdout",
     "output_type": "stream",
     "text": [
      "1334\n"
     ]
    }
   ],
   "source": [
    "results = search(batch_size=20\n",
    "        ).filter((K.Egap > 0.1) & (K.Egap < 2)\n",
    "        ).filter(K.nspecies == 2\n",
    "        ).filter(K.natoms < 5)\n",
    "print(len(results))\n"
   ]
  },
  {
   "cell_type": "code",
   "execution_count": 11,
   "metadata": {},
   "outputs": [
    {
     "name": "stdout",
     "output_type": "stream",
     "text": [
      "Progress 0 / 1334\n",
      "Progress 10 / 1334\n"
     ]
    }
   ],
   "source": [
    "counter=0\n",
    "\n",
    "X = []\n",
    "Y = []\n",
    "for result in results[0:11]:\n",
    "    crystal = Structure.from_str(result.files['CONTCAR.relax.vasp'](), fmt='poscar')\n",
    "    X.append(RDF(crystal).RDF[:,1])\n",
    "    Y.append(result.Egap)\n",
    "    \n",
    "    if (counter % 10==0):\n",
    "        print('Progress', counter, \"/\", len(results))\n",
    "    counter += 1\n"
   ]
  },
  {
   "cell_type": "code",
   "execution_count": 12,
   "metadata": {},
   "outputs": [
    {
     "name": "stdout",
     "output_type": "stream",
     "text": [
      "[array([0.        , 0.        , 0.        , 0.        , 0.        ,\n",
      "       0.        , 0.        , 0.        , 0.        , 0.        ,\n",
      "       0.        , 0.        , 7.07797908, 0.93891559, 0.        ,\n",
      "       2.15657175, 0.        , 0.        , 0.        , 0.        ,\n",
      "       2.50377491, 1.14066605, 0.        , 1.91695267, 0.        ,\n",
      "       4.90013936, 0.        , 0.2347289 , 0.1094099 , 0.        ,\n",
      "       0.57448738, 0.71885725, 2.36582588, 1.27354641, 1.50226495,\n",
      "       1.13597195, 0.53769892, 1.52931404, 0.72594657, 0.        ,\n",
      "       1.31369986, 0.57378175, 1.39339339, 0.28516651, 2.72633268,\n",
      "       1.21757296, 0.58315627, 0.63898422, 0.76646171, 1.61944161,\n",
      "       0.42451547, 0.81668989, 0.78616215, 0.50487642, 1.58172359,\n",
      "       1.6724434 , 0.96290143, 1.20350893, 1.3745228 , 0.8178998 ]), array([0.        , 0.        , 0.        , 0.        , 0.        ,\n",
      "       0.        , 0.        , 0.        , 0.        , 0.        ,\n",
      "       0.        , 6.19268035, 0.        , 0.        , 0.        ,\n",
      "       0.        , 6.17125239, 0.        , 0.        , 0.        ,\n",
      "       2.69613294, 0.        , 0.        , 0.        , 1.42679355,\n",
      "       0.        , 0.        , 4.54972434, 0.        , 3.96331543,\n",
      "       0.        , 0.        , 0.        , 0.        , 1.45591179,\n",
      "       0.        , 3.25692466, 0.        , 2.34515706, 0.        ,\n",
      "       2.12194163, 0.        , 0.64304739, 1.84245035, 0.        ,\n",
      "       3.37144034, 0.        , 0.        , 0.37140607, 0.        ,\n",
      "       2.74277884, 1.97872627, 0.        , 1.2232455 , 1.17916823,\n",
      "       2.27486217, 0.        , 1.06034004, 0.        , 0.99082886]), array([0.        , 0.        , 0.        , 0.        , 0.        ,\n",
      "       0.        , 0.        , 0.        , 0.        , 0.        ,\n",
      "       0.        , 6.18445357, 0.        , 0.        , 0.        ,\n",
      "       0.        , 6.16305408, 0.        , 0.        , 0.        ,\n",
      "       2.69255121, 0.        , 0.        , 0.        , 1.4248981 ,\n",
      "       0.        , 0.        , 4.54368017, 0.        , 3.95805029,\n",
      "       0.        , 0.        , 0.        , 0.        , 1.45397766,\n",
      "       0.        , 3.25259793, 0.        , 2.34204159, 0.        ,\n",
      "       2.1191227 , 0.        , 0.64219312, 1.84000272, 0.        ,\n",
      "       3.36696149, 0.        , 0.        , 0.37091267, 0.        ,\n",
      "       2.73913515, 1.97609759, 0.        , 1.22162046, 1.17760174,\n",
      "       2.27184009, 0.        , 1.05893141, 0.        , 0.98951257]), array([0.        , 0.        , 0.        , 0.        , 0.        ,\n",
      "       0.        , 0.        , 0.        , 0.        , 0.        ,\n",
      "       0.        , 0.        , 5.62577574, 0.        , 0.        ,\n",
      "       0.        , 0.        , 4.40164861, 2.63367341, 0.        ,\n",
      "       0.        , 1.96437211, 0.        , 0.        , 0.        ,\n",
      "       2.81288787, 0.        , 0.        , 2.26101332, 0.        ,\n",
      "       1.48401056, 3.24965464, 0.        , 0.        , 0.        ,\n",
      "       3.30123646, 1.38897896, 0.        , 1.25017239, 0.        ,\n",
      "       1.69676877, 0.        , 0.51420016, 1.96437211, 1.40852756,\n",
      "       0.89863525, 0.        , 4.74552741, 0.19799169, 0.        ,\n",
      "       0.91383708, 0.17580549, 0.22564521, 1.4672162 , 0.62859907,\n",
      "       0.70740781, 2.53612995, 0.28262666, 0.63729701, 1.32049458]), array([0.        , 0.        , 0.        , 0.        , 0.        ,\n",
      "       0.        , 0.        , 0.        , 0.        , 0.        ,\n",
      "       0.        , 0.        , 5.69642303, 0.        , 0.        ,\n",
      "       0.        , 0.        , 4.45692358, 1.33337326, 1.20336937,\n",
      "       0.        , 1.98904027, 0.        , 0.        , 0.        ,\n",
      "       2.13615864, 0.66028497, 0.        , 2.28940664, 0.        ,\n",
      "       1.50264645, 3.29046311, 0.        , 0.        , 0.        ,\n",
      "       1.11423089, 3.51605366, 1.33337326, 0.        , 0.        ,\n",
      "       1.71807643, 0.        , 0.52065738, 0.        , 3.32783627,\n",
      "       0.90992013, 0.        , 4.80512073, 0.        , 0.1925391 ,\n",
      "       0.        , 0.8900661 , 0.39983793, 0.49521373, 1.27298578,\n",
      "       0.71629129, 0.59261034, 2.48019053, 0.36874289, 1.2479386 ]), array([0.        , 0.        , 0.        , 0.        , 0.        ,\n",
      "       0.        , 0.        , 0.        , 0.        , 0.        ,\n",
      "       0.        , 0.        , 5.83228454, 0.        , 0.        ,\n",
      "       0.        , 0.        , 4.56322263, 1.36517464, 1.23207011,\n",
      "       0.        , 2.03647952, 0.        , 0.        , 0.        ,\n",
      "       0.72903557, 2.02809895, 0.        , 2.34400972, 0.        ,\n",
      "       1.53848505, 0.96255477, 2.26275502, 0.        , 0.        ,\n",
      "       1.14080566, 3.59991266, 1.36517464, 0.        , 0.        ,\n",
      "       1.17270207, 1.11752391, 0.        , 0.        , 2.92046248,\n",
      "       1.39743302, 0.        , 1.71120849, 3.0788924 , 0.        ,\n",
      "       0.18947637, 0.91129446, 0.23392811, 0.84504123, 0.81459181,\n",
      "       0.73337507, 0.60674428, 2.53934386, 0.66069066, 0.09126445]), array([0.        , 0.        , 0.        , 0.        , 0.        ,\n",
      "       0.        , 0.        , 0.        , 0.        , 0.        ,\n",
      "       0.        , 0.        , 5.82264266, 0.        , 0.        ,\n",
      "       0.        , 0.        , 4.55567874, 1.36291774, 1.23003326,\n",
      "       0.        , 2.03311283, 0.        , 0.        , 0.        ,\n",
      "       0.72783033, 2.02474611, 0.        , 2.34013462, 0.        ,\n",
      "       1.53594164, 0.96096349, 2.25901425, 0.        , 0.        ,\n",
      "       1.13891969, 3.59396132, 1.36291774, 0.        , 0.        ,\n",
      "       1.17076337, 0.55783821, 0.53219395, 0.        , 3.40157346,\n",
      "       0.93008186, 0.        , 1.70837953, 3.0738024 , 0.        ,\n",
      "       0.18916313, 0.90978792, 0.23354138, 0.73115832, 1.24697587,\n",
      "       0.41837866, 0.60574122, 2.53514584, 0.65959842, 0.09111357]), array([0.        , 0.        , 0.        , 0.        , 0.        ,\n",
      "       0.        , 0.        , 0.        , 0.        , 0.        ,\n",
      "       0.        , 0.        , 5.80247658, 0.        , 0.        ,\n",
      "       0.        , 0.        , 4.53990066, 1.35819743, 1.22577318,\n",
      "       0.        , 2.02607137, 0.        , 0.        , 0.        ,\n",
      "       0.72530957, 2.01773363, 0.        , 2.33202983, 0.        ,\n",
      "       1.53062207, 2.39408824, 0.90047616, 0.        , 0.        ,\n",
      "       1.13497516, 3.58151403, 0.        , 1.28943924, 0.        ,\n",
      "       1.75006283, 0.        , 0.53035075, 0.        , 3.38979249,\n",
      "       0.92686063, 0.        , 1.70246275, 3.06315663, 0.        ,\n",
      "       0.18850799, 0.90663697, 0.23273254, 0.67257788, 1.29668568,\n",
      "       0.41692965, 0.30182165, 3.1093731 , 0.37560798, 0.09079801]), array([0.        , 0.        , 0.        , 0.        , 0.        ,\n",
      "       0.        , 2.18324913, 0.        , 0.        , 0.        ,\n",
      "       1.76825136, 0.        , 0.        , 2.18324913, 0.95092629,\n",
      "       0.41788753, 0.74034054, 2.64146191, 1.18536518, 0.        ,\n",
      "       1.21291618, 1.98928278, 1.01114563, 0.        , 1.88283405,\n",
      "       0.        , 2.05447038, 0.40935921, 0.89043336, 0.95092629,\n",
      "       0.33396215, 0.94024694, 1.37530662, 0.92542567, 1.22261951,\n",
      "       1.81600507, 0.62515242, 1.85213309, 0.9143522 , 0.40117203,\n",
      "       0.89096306, 0.6671039 , 0.81001022, 0.93938354, 1.32073096,\n",
      "       0.65724466, 1.35600625, 0.60361532, 0.9356782 , 0.81304198,\n",
      "       1.9331114 , 1.10777286, 0.87594225, 1.24735701, 0.91949071,\n",
      "       0.51169902, 1.11951156, 1.14484289, 0.86050497, 0.8320605 ]), array([0.        , 0.        , 0.        , 0.        , 0.        ,\n",
      "       0.        , 0.        , 0.        , 0.        , 0.        ,\n",
      "       0.        , 0.        , 5.65962775, 0.        , 0.        ,\n",
      "       0.        , 0.        , 4.42813468, 2.64952102, 0.        ,\n",
      "       0.        , 1.97619233, 0.        , 0.        , 0.        ,\n",
      "       2.82981388, 0.        , 0.        , 2.27461853, 0.        ,\n",
      "       1.49294031, 3.2692088 , 0.        , 0.        , 0.        ,\n",
      "       3.32110101, 1.39733687, 0.        , 1.25769506, 0.        ,\n",
      "       1.70697874, 0.        , 0.51729426, 0.        , 3.30634056,\n",
      "       0.90404262, 0.        , 4.7740827 , 0.19918307, 0.        ,\n",
      "       0.18386718, 0.88431684, 0.22700299, 0.9293616 , 1.15936617,\n",
      "       0.7116645 , 2.06073857, 0.75820618, 0.64113182, 1.23987771]), array([0.        , 0.        , 0.        , 0.        , 0.        ,\n",
      "       0.        , 0.        , 0.        , 0.        , 0.        ,\n",
      "       0.        , 0.        , 5.84274467, 0.        , 0.        ,\n",
      "       0.        , 0.        , 4.57140671, 1.36762306, 1.23427981,\n",
      "       0.        , 2.04013192, 0.        , 0.        , 0.        ,\n",
      "       0.73034308, 2.03173631, 0.        , 2.34821367, 0.        ,\n",
      "       1.5412443 , 0.9642811 , 2.26681324, 0.        , 0.        ,\n",
      "       1.14285168, 3.60636906, 0.        , 1.2983877 , 0.        ,\n",
      "       0.58740265, 1.11952817, 0.53403129, 0.        , 3.41331701,\n",
      "       0.93329286, 0.        , 1.71427752, 3.08441436, 0.        ,\n",
      "       0.1898162 , 0.91292885, 0.23434766, 0.67724544, 1.30568443,\n",
      "       0.41982306, 0.30391624, 2.83742485, 0.6618756 , 0.09142813])]\n"
     ]
    }
   ],
   "source": [
    "len(Y)\n",
    "print(X)"
   ]
  },
  {
   "cell_type": "code",
   "execution_count": 4,
   "metadata": {},
   "outputs": [
    {
     "data": {
      "text/plain": [
       "0"
      ]
     },
     "execution_count": 4,
     "metadata": {},
     "output_type": "execute_result"
    }
   ],
   "source": [
    "from tempfile import TemporaryFile\n",
    "Youtfile = TemporaryFile()\n",
    "np.save(Youtfile, Y)  #C:\\Users\\Katie\\RDF_4_ML\n",
    "Youtfile.seek(0) # Only needed here to simulate closing & reopening file\n"
   ]
  },
  {
   "cell_type": "code",
   "execution_count": 5,
   "metadata": {},
   "outputs": [],
   "source": [
    "Ydata = np.load(Youtfile)"
   ]
  },
  {
   "cell_type": "code",
   "execution_count": 6,
   "metadata": {},
   "outputs": [
    {
     "name": "stdout",
     "output_type": "stream",
     "text": [
      "[0.1027 0.1027 0.1034 0.1045 0.1054 0.1072 0.1077 0.1113 0.1123 0.1127\n",
      " 0.1141]\n"
     ]
    }
   ],
   "source": [
    "print(Ydata)"
   ]
  },
  {
   "cell_type": "code",
   "execution_count": 7,
   "metadata": {},
   "outputs": [
    {
     "data": {
      "text/plain": [
       "0"
      ]
     },
     "execution_count": 7,
     "metadata": {},
     "output_type": "execute_result"
    }
   ],
   "source": [
    "Xoutfile = TemporaryFile()\n",
    "np.save(Xoutfile, X)  \n",
    "Xoutfile.seek(0) # Only needed here to simulate closing & reopening file"
   ]
  },
  {
   "cell_type": "code",
   "execution_count": 8,
   "metadata": {},
   "outputs": [],
   "source": [
    "Xdata = np.load(Xoutfile)"
   ]
  },
  {
   "cell_type": "code",
   "execution_count": 9,
   "metadata": {},
   "outputs": [
    {
     "name": "stdout",
     "output_type": "stream",
     "text": [
      "[[0.         0.         0.         0.         0.         0.\n",
      "  0.         0.         0.         0.         0.         0.\n",
      "  7.07797908 0.93891559 0.         2.15657175 0.         0.\n",
      "  0.         0.         2.50377491 1.14066605 0.         1.91695267\n",
      "  0.         4.90013936 0.         0.2347289  0.1094099  0.\n",
      "  0.57448738 0.71885725 2.36582588 1.27354641 1.50226495 1.13597195\n",
      "  0.53769892 1.52931404 0.72594657 0.         1.31369986 0.57378175\n",
      "  1.39339339 0.28516651 2.72633268 1.21757296 0.58315627 0.63898422\n",
      "  0.76646171 1.61944161 0.42451547 0.81668989 0.78616215 0.50487642\n",
      "  1.58172359 1.6724434  0.96290143 1.20350893 1.3745228  0.8178998 ]\n",
      " [0.         0.         0.         0.         0.         0.\n",
      "  0.         0.         0.         0.         0.         1.93311343\n",
      "  1.6471499  0.35506165 0.6185963  0.54368815 2.64883362 1.50353266\n",
      "  1.0602672  1.04388125 0.31561036 0.64703383 1.18398629 0.48327836\n",
      "  1.05779967 1.08094212 0.90689272 1.24271577 1.1171143  0.92789444\n",
      "  0.905204   1.15533732 1.24613923 1.29431643 0.68171837 0.88601032\n",
      "  0.7625137  0.72290945 1.24680097 0.69592083 1.14882826 1.16381318\n",
      "  1.11031177 0.94359101 1.05676867 0.8222127  0.73246534 0.80042978\n",
      "  0.94924645 0.92557471 0.70234225 1.13241556 0.89808224 0.83529592\n",
      "  0.91447448 0.85436709 0.64258618 0.64647818 0.83466518 0.71525197]\n",
      " [0.         0.         0.         0.         0.         0.\n",
      "  0.         0.         0.         0.         0.         0.\n",
      "  0.         1.1467929  6.99288829 0.         0.         0.\n",
      "  3.11317741 0.         0.         0.92880748 0.42489869 1.17068442\n",
      "  0.35963425 1.33000834 1.84997045 1.43349113 1.87086785 0.\n",
      "  0.70167974 0.87801332 1.03200831 1.36107255 0.         2.42808621\n",
      "  0.65674627 0.77829435 0.88667223 0.98337492 0.9359904  0.7645286\n",
      "  0.72938262 1.74151402 0.77698759 1.80581945 0.         1.6584696\n",
      "  0.93615747 0.62935995 1.38267687 0.99750625 0.32007321 0.77082102\n",
      "  1.37463506 1.00344379 0.93395322 1.16929241 0.90399303 0.87411104]\n",
      " [0.         0.         0.         0.         0.         0.\n",
      "  0.         0.         0.         0.         0.         0.\n",
      "  1.47450378 0.         1.47668823 4.86701444 0.57483538 0.\n",
      "  1.38056033 0.83063713 2.63694327 0.         0.15702025 0.86524701\n",
      "  0.39870582 0.73725189 0.79759395 1.37733198 1.87658805 1.38439522\n",
      "  0.86434665 1.1356367  0.68647697 1.22152519 0.74587824 1.02547794\n",
      "  0.42472315 0.57523347 1.03761377 1.09021123 1.72946458 0.94176545\n",
      "  1.12308969 1.33004913 0.86140147 0.7458462  1.39128899 0.75709114\n",
      "  0.83029118 0.53160776 1.06983252 0.70653306 1.1384667  1.12517718\n",
      "  1.09836315 0.76812745 1.2399477  1.2345974  0.66813673 0.68066098]\n",
      " [0.         0.         0.         0.         0.         0.\n",
      "  0.         0.         0.         0.         0.         0.\n",
      "  0.         1.14854362 7.00356374 0.         0.         0.\n",
      "  3.11793004 0.         0.         0.93022541 0.42554735 1.17247161\n",
      "  0.36018328 1.33203875 1.85279464 1.43567952 1.87372395 0.\n",
      "  0.70275093 0.87935371 1.03358379 1.36315038 0.         2.43179297\n",
      "  0.65774886 0.77948251 0.88802583 0.98487615 0.9374193  0.76569574\n",
      "  0.7304961  1.74417264 0.77817375 1.80857624 0.         1.66100145\n",
      "  0.93758663 0.63032074 1.38478769 0.99902906 0.32056184 0.77199777\n",
      "  1.33952459 1.04086765 0.93537901 1.17107747 0.90537308 0.87544547]\n",
      " [0.         0.         0.         0.         0.         0.\n",
      "  0.         0.         0.         0.         1.23117812 3.10359485\n",
      "  0.8814944  0.76006405 0.         1.45481009 2.57737981 0.91958366\n",
      "  1.85699858 1.48972553 0.         0.30779453 1.40805816 0.2586329\n",
      "  0.47671217 0.99168119 0.40870385 1.14009607 1.59423659 1.82077565\n",
      "  0.15501827 0.87288605 0.47879149 0.77321394 1.52012809 0.91958366\n",
      "  1.14259445 0.8253327  1.07738204 0.88452453 1.06345665 1.94238589\n",
      "  0.7251233  1.00033222 0.73566693 1.30245379 0.6743891  0.71124049\n",
      "  1.36501298 0.68527374 1.40324012 1.62525529 0.9546123  0.99621563\n",
      "  0.93569537 1.04508806 0.68777725 0.81926047 0.96290791 0.95176909]\n",
      " [0.         0.         0.         0.         0.         0.\n",
      "  0.         0.         0.         0.         0.         2.76918912\n",
      "  2.75280338 0.         0.         0.51922296 1.37980357 1.64100096\n",
      "  2.20921459 0.83075674 0.60281668 0.41194549 1.75888005 0.46153152\n",
      "  1.06336862 0.         1.09400064 1.10202424 0.7112305  1.55074591\n",
      "  0.86447111 0.97354305 1.40366611 0.7473936  0.86805602 0.35896896\n",
      "  0.19418711 0.48326569 1.22346817 0.74768106 0.51397204 0.73468283\n",
      "  0.62902078 0.738069   0.44307026 0.34549429 0.44377227 0.53364582\n",
      "  0.70584912 0.48516193 0.16608747 0.43627018 0.32532304 0.5128128\n",
      "  0.23618208 0.46624103 0.29660751 0.29634604 0.52504017 0.20768918]\n",
      " [0.         0.         0.         0.         0.         0.\n",
      "  0.         0.         0.         0.         0.         2.7707541\n",
      "  2.75435911 0.         0.         0.51951639 1.38058336 1.64192836\n",
      "  2.21046311 0.83122623 0.60315736 0.4121783  1.75987406 0.46179235\n",
      "  1.06396957 0.         1.0946189  1.10264704 0.71163244 1.5516223\n",
      "  0.86495966 0.97409324 1.40445938 0.63276737 0.97711492 0.35917183\n",
      "  0.19429685 0.4835388  1.18043962 0.74810361 0.55382116 0.69740069\n",
      "  0.66534063 0.73848611 0.44332066 0.34568955 0.44402307 0.5339474\n",
      "  0.70624803 0.48543612 0.16618133 0.38733175 0.37285335 0.51310261\n",
      "  0.19234987 0.50891402 0.29677514 0.29651352 0.52533689 0.20780656]\n",
      " [0.         0.         0.         0.         0.         0.\n",
      "  0.         0.         0.         0.         0.         6.19268035\n",
      "  0.         0.         0.         0.         6.17125239 0.\n",
      "  0.         0.         2.69613294 0.         0.         0.\n",
      "  1.42679355 0.         0.         4.54972434 0.         3.96331543\n",
      "  0.         0.         0.         0.         1.45591179 0.\n",
      "  3.25692466 0.         2.34515706 0.         2.12194163 0.\n",
      "  0.64304739 1.84245035 0.         3.37144034 0.         0.\n",
      "  0.37140607 0.         2.74277884 1.97872627 0.         1.2232455\n",
      "  1.17916823 2.27486217 0.         1.06034004 0.         0.99082886]\n",
      " [0.         0.         0.         0.         0.         0.\n",
      "  0.         0.         0.         0.         0.         6.18445357\n",
      "  0.         0.         0.         0.         6.16305408 0.\n",
      "  0.         0.         2.69255121 0.         0.         0.\n",
      "  1.4248981  0.         0.         4.54368017 0.         3.95805029\n",
      "  0.         0.         0.         0.         1.45397766 0.\n",
      "  3.25259793 0.         2.34204159 0.         2.1191227  0.\n",
      "  0.64219312 1.84000272 0.         3.36696149 0.         0.\n",
      "  0.37091267 0.         2.73913515 1.97609759 0.         1.22162046\n",
      "  1.17760174 2.27184009 0.         1.05893141 0.         0.98951257]\n",
      " [0.         0.         0.         0.         0.         0.\n",
      "  0.         0.         0.         0.         0.         0.\n",
      "  0.         0.         0.         4.26452341 3.77757091 1.68474999\n",
      "  0.         0.         0.82518367 0.         4.12747823 0.\n",
      "  0.         0.         0.74877777 1.39249744 0.         1.21301999\n",
      "  1.13602288 1.59919628 3.00748758 0.94439273 0.89119836 0.84237499\n",
      "  0.         0.         0.71776331 2.04697124 1.29889113 2.06295917\n",
      "  0.29521849 0.84585588 0.         1.03186956 1.482641   1.30304882\n",
      "  0.90938608 1.31006159 0.         1.41309651 1.5546002  1.49755554\n",
      "  1.08269553 0.34812436 0.67203324 1.78491348 0.31362195 0.60651   ]]\n"
     ]
    }
   ],
   "source": [
    "print(Xdata)"
   ]
  },
  {
   "cell_type": "code",
   "execution_count": 11,
   "metadata": {},
   "outputs": [
    {
     "name": "stderr",
     "output_type": "stream",
     "text": [
      "C:\\Users\\Katie\\Miniconda3\\lib\\site-packages\\sklearn\\cross_validation.py:41: DeprecationWarning: This module was deprecated in version 0.18 in favor of the model_selection module into which all the refactored classes and functions are moved. Also note that the interface of the new CV iterators are different from that of this module. This module will be removed in 0.20.\n",
      "  \"This module will be removed in 0.20.\", DeprecationWarning)\n"
     ]
    },
    {
     "data": {
      "text/plain": [
       "783"
      ]
     },
     "execution_count": 11,
     "metadata": {},
     "output_type": "execute_result"
    }
   ],
   "source": [
    "'''Machine Learning'''\n",
    "#Split the data\n",
    "\n",
    "from sklearn.cross_validation import train_test_split\n",
    "\n",
    "\n",
    "X_train, X_test, Y_train, Y_test = train_test_split(Xdata, Ydata, random_state=10)\n",
    "\n",
    "len(X_test)"
   ]
  },
  {
   "cell_type": "code",
   "execution_count": 18,
   "metadata": {},
   "outputs": [
    {
     "data": {
      "text/plain": [
       "2347"
      ]
     },
     "execution_count": 18,
     "metadata": {},
     "output_type": "execute_result"
    }
   ],
   "source": [
    "len(Y_train)"
   ]
  },
  {
   "cell_type": "code",
   "execution_count": 12,
   "metadata": {},
   "outputs": [],
   "source": [
    "#implement KNeighborsRegressor---choose estimator\n",
    "\n",
    "from sklearn.neighbors import KNeighborsRegressor\n",
    "estimator = KNeighborsRegressor(4, weights='distance', algorithm='kd_tree', leaf_size=40, p=1)"
   ]
  },
  {
   "cell_type": "code",
   "execution_count": 23,
   "metadata": {},
   "outputs": [
    {
     "name": "stdout",
     "output_type": "stream",
     "text": [
      "r^2 =  0.7357413378949806\n"
     ]
    }
   ],
   "source": [
    "#train data\n",
    "\n",
    "import numpy as np\n",
    "import matplotlib.pyplot as plt\n",
    "\n",
    "estimator.fit(X_train,  Y_train)\n",
    "y_predicted = estimator.predict(X_test)\n",
    "\n",
    "\n",
    "\n",
    "#print(Y_test)\n",
    "#print(y_predicted)\n",
    "\n",
    "r2= estimator.score( X_test, Y_test, sample_weight=None)\n",
    "\n",
    "\n",
    "print('r^2 = ', r2)"
   ]
  },
  {
   "cell_type": "markdown",
   "metadata": {},
   "source": [
    "r2= estimator.score( X_test, Y_test, sample_weight=None)\n",
    "\n",
    "\n",
    "print('r^2 = ', r2)\n",
    "#dir(KNeighborsRegressor)"
   ]
  },
  {
   "cell_type": "code",
   "execution_count": 24,
   "metadata": {},
   "outputs": [
    {
     "data": {
      "image/png": "[encoded data removed]",
      "text/plain": [
       "<matplotlib.figure.Figure at 0x2580f837ba8>"
      ]
     },
     "metadata": {},
     "output_type": "display_data"
    }
   ],
   "source": [
    "plt.scatter( y_predicted, Y_test, c='green')\n",
    "plt.title('Band Gap: Actual vs Predicted-- 3130 Materials')\n",
    "plt.text(1.6,.3, '$r^2$: 0.735741')\n",
    "plt.xlabel('Y_test')\n",
    "plt.ylabel('y_predicted')\n",
    "plt.savefig('C:\\\\Users\\\\Katie\\\\Documents\\\\School\\\\ZhuGroup\\\\Egap3.png')\n",
    "plt.show()\n",
    "\n",
    "\n",
    "\n",
    "#plot ypredicted vs ytest on x axis\n",
    "\n",
    "#read about pearson coefficients like r value"
   ]
  },
  {
   "cell_type": "code",
   "execution_count": 16,
   "metadata": {},
   "outputs": [
    {
     "data": {
      "text/plain": [
       "'analyze outliers'"
      ]
     },
     "execution_count": 16,
     "metadata": {},
     "output_type": "execute_result"
    }
   ],
   "source": [
    "'''analyze outliers'''"
   ]
  },
  {
   "cell_type": "code",
   "execution_count": 19,
   "metadata": {},
   "outputs": [
    {
     "data": {
      "image/png": "[encoded data removed]",
      "text/plain": [
       "<matplotlib.figure.Figure at 0x2580e371ac8>"
      ]
     },
     "metadata": {},
     "output_type": "display_data"
    }
   ],
   "source": [
    "plt.hist( Y_train, color='green')\n",
    "plt.title('Band Gap--Distribution of Training Set--3130 Materials')\n",
    "plt.xlabel('Y_train [eV]')\n",
    "\n",
    "plt.savefig('C:\\\\Users\\\\Katie\\\\Documents\\\\School\\\\ZhuGroup\\\\TrainEgap3.png')\n",
    "plt.show()"
   ]
  },
  {
   "cell_type": "code",
   "execution_count": null,
   "metadata": {},
   "outputs": [],
   "source": []
  }
 ],
 "metadata": {
  "kernelspec": {
   "display_name": "Python 3",
   "language": "python",
   "name": "python3"
  },
  "language_info": {
   "codemirror_mode": {
    "name": "ipython",
    "version": 3
   },
   "file_extension": ".py",
   "mimetype": "text/x-python",
   "name": "python",
   "nbconvert_exporter": "python",
   "pygments_lexer": "ipython3",
   "version": "3.6.3"
  }
 },
 "nbformat": 4,
 "nbformat_minor": 2
}
